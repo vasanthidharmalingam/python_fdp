{
  "nbformat": 4,
  "nbformat_minor": 0,
  "metadata": {
    "colab": {
      "provenance": [],
      "authorship_tag": "ABX9TyOUKaulx/1WR23jBsyZ+tiw",
      "include_colab_link": true
    },
    "kernelspec": {
      "name": "python3",
      "display_name": "Python 3"
    },
    "language_info": {
      "name": "python"
    }
  },
  "cells": [
    {
      "cell_type": "markdown",
      "metadata": {
        "id": "view-in-github",
        "colab_type": "text"
      },
      "source": [
        "<a href=\"https://colab.research.google.com/github/vasanthidharmalingam/python_fdp/blob/main/python_fdp.ipynb\" target=\"_parent\"><img src=\"https://colab.research.google.com/assets/colab-badge.svg\" alt=\"Open In Colab\"/></a>"
      ]
    },
    {
      "cell_type": "code",
      "execution_count": null,
      "metadata": {
        "colab": {
          "base_uri": "https://localhost:8080/"
        },
        "id": "nyRGDFJIMpdX",
        "outputId": "316b1424-5d34-4264-cd77-9cedf517674d"
      },
      "outputs": [
        {
          "output_type": "execute_result",
          "data": {
            "text/plain": [
              "bool"
            ]
          },
          "metadata": {},
          "execution_count": 5
        }
      ],
      "source": [
        "x=2\n",
        "y=1.5\n",
        "z=\"vasanthi\"\n",
        "w=False\n",
        "type(x)\n",
        "type(y)\n",
        "type(z)\n",
        "type(w)"
      ]
    },
    {
      "cell_type": "markdown",
      "source": [],
      "metadata": {
        "id": "8jKANxboRB-R"
      }
    },
    {
      "cell_type": "code",
      "source": [
        "x=2\n",
        "y=1.5\n",
        "z=\"vasanthi\"\n",
        "w=False\n",
        "print(type(x))\n",
        "print(type(y))\n",
        "print(type(z))\n",
        "print(type(w))"
      ],
      "metadata": {
        "colab": {
          "base_uri": "https://localhost:8080/"
        },
        "id": "nILYEym2Q9c7",
        "outputId": "10b77b22-d847-47e1-eb15-55a8ad113bd9"
      },
      "execution_count": null,
      "outputs": [
        {
          "output_type": "stream",
          "name": "stdout",
          "text": [
            "<class 'int'>\n",
            "<class 'float'>\n",
            "<class 'str'>\n",
            "<class 'bool'>\n"
          ]
        }
      ]
    },
    {
      "cell_type": "markdown",
      "source": [],
      "metadata": {
        "id": "Xzla6JoYRpLp"
      }
    },
    {
      "cell_type": "markdown",
      "source": [
        "# New Section"
      ],
      "metadata": {
        "id": "4IXawRe1RrmT"
      }
    },
    {
      "cell_type": "code",
      "source": [
        "# @title\n",
        "str1=\"hello\"\n",
        "str2=\"vasanthi\"\n",
        "print(str1)\n",
        "print(str2)\n",
        "print(type(str1))\n",
        "print(type(str2))\n"
      ],
      "metadata": {
        "colab": {
          "base_uri": "https://localhost:8080/"
        },
        "id": "C-E58R7URs9S",
        "outputId": "dde7d211-4e9b-4028-fb06-48337bb95a53"
      },
      "execution_count": null,
      "outputs": [
        {
          "output_type": "stream",
          "name": "stdout",
          "text": [
            "hello\n",
            "vasanthi\n",
            "<class 'str'>\n",
            "<class 'str'>\n"
          ]
        }
      ]
    },
    {
      "cell_type": "code",
      "source": [
        "first_str=\"vasanthi dharmalingam\"\n",
        "print(first_str)\n",
        "print(len(first_str))\n",
        "print(first_str[0])\n",
        "print(first_str[-13])"
      ],
      "metadata": {
        "colab": {
          "base_uri": "https://localhost:8080/"
        },
        "id": "KlTOiEDqTCN2",
        "outputId": "5378ab63-dd6b-4324-cb17-c5f430bad9f1"
      },
      "execution_count": null,
      "outputs": [
        {
          "output_type": "stream",
          "name": "stdout",
          "text": [
            "vasanthi dharmalingam\n",
            "21\n",
            "v\n",
            " \n"
          ]
        }
      ]
    },
    {
      "cell_type": "code",
      "source": [],
      "metadata": {
        "id": "0MjIMYtQk-MM"
      },
      "execution_count": null,
      "outputs": []
    },
    {
      "cell_type": "code",
      "source": [
        "my_str=\"vasanthi\"\n",
        "print(my_str[0])\n",
        "my_str[0]=\"D\""
      ],
      "metadata": {
        "colab": {
          "base_uri": "https://localhost:8080/",
          "height": 193
        },
        "id": "4bu_RL3dVKY4",
        "outputId": "bed809c2-5703-46b0-87fb-41a3fcaaf011"
      },
      "execution_count": null,
      "outputs": [
        {
          "output_type": "stream",
          "name": "stdout",
          "text": [
            "v\n"
          ]
        },
        {
          "output_type": "error",
          "ename": "TypeError",
          "evalue": "'str' object does not support item assignment",
          "traceback": [
            "\u001b[0;31m---------------------------------------------------------------------------\u001b[0m",
            "\u001b[0;31mTypeError\u001b[0m                                 Traceback (most recent call last)",
            "\u001b[0;32m<ipython-input-16-a021d632f002>\u001b[0m in \u001b[0;36m<cell line: 3>\u001b[0;34m()\u001b[0m\n\u001b[1;32m      1\u001b[0m \u001b[0mmy_str\u001b[0m\u001b[0;34m=\u001b[0m\u001b[0;34m\"vasanthi\"\u001b[0m\u001b[0;34m\u001b[0m\u001b[0;34m\u001b[0m\u001b[0m\n\u001b[1;32m      2\u001b[0m \u001b[0mprint\u001b[0m\u001b[0;34m(\u001b[0m\u001b[0mmy_str\u001b[0m\u001b[0;34m[\u001b[0m\u001b[0;36m0\u001b[0m\u001b[0;34m]\u001b[0m\u001b[0;34m)\u001b[0m\u001b[0;34m\u001b[0m\u001b[0;34m\u001b[0m\u001b[0m\n\u001b[0;32m----> 3\u001b[0;31m \u001b[0mmy_str\u001b[0m\u001b[0;34m[\u001b[0m\u001b[0;36m0\u001b[0m\u001b[0;34m]\u001b[0m\u001b[0;34m=\u001b[0m\u001b[0;34m\"D\"\u001b[0m\u001b[0;34m\u001b[0m\u001b[0;34m\u001b[0m\u001b[0m\n\u001b[0m",
            "\u001b[0;31mTypeError\u001b[0m: 'str' object does not support item assignment"
          ]
        }
      ]
    },
    {
      "cell_type": "code",
      "source": [
        "my_str=\"vasanthi\"\n",
        "print(my_str[0])\n",
        "print(\"a\" in my_str)\n",
        "print(my_str[-5:-2])\n",
        "print(my_str[-6:])\n",
        "print(my_str[:-1])\n",
        "print(my_str[-4:])"
      ],
      "metadata": {
        "colab": {
          "base_uri": "https://localhost:8080/"
        },
        "id": "uuJJnGVtk2cn",
        "outputId": "05928d7c-ef63-4ae5-e30a-0a208a0144f8"
      },
      "execution_count": null,
      "outputs": [
        {
          "output_type": "stream",
          "name": "stdout",
          "text": [
            "v\n",
            "True\n",
            "ant\n",
            "santhi\n",
            "vasanth\n",
            "nthi\n"
          ]
        }
      ]
    },
    {
      "cell_type": "code",
      "source": [
        "my_str=(1,1.12,\"vasanthi\",1311)\n",
        "print(my_str)\n",
        "print(type(my_str))\n",
        "print(len(my_str))"
      ],
      "metadata": {
        "colab": {
          "base_uri": "https://localhost:8080/"
        },
        "id": "48F0hFt1oDNB",
        "outputId": "64984f4a-da3f-4b46-d251-98a431a59040"
      },
      "execution_count": null,
      "outputs": [
        {
          "output_type": "stream",
          "name": "stdout",
          "text": [
            "(1, 1.12, 'vasanthi', 1311)\n",
            "<class 'tuple'>\n",
            "4\n"
          ]
        }
      ]
    },
    {
      "cell_type": "code",
      "source": [
        "my_str=()\n",
        "print(my_str)\n",
        "print(type(my_str))\n",
        "print(len(my_str))"
      ],
      "metadata": {
        "colab": {
          "base_uri": "https://localhost:8080/"
        },
        "id": "FANU2L__vrjA",
        "outputId": "151df1be-68d2-447b-908f-591079ce0964"
      },
      "execution_count": null,
      "outputs": [
        {
          "output_type": "stream",
          "name": "stdout",
          "text": [
            "()\n",
            "<class 'tuple'>\n",
            "0\n"
          ]
        }
      ]
    },
    {
      "cell_type": "code",
      "source": [
        "str1=\"vasanthi\"\n",
        "str2=\"dharmalingam\"\n",
        "print(str1 + str2)"
      ],
      "metadata": {
        "colab": {
          "base_uri": "https://localhost:8080/"
        },
        "id": "gfaWKt5DsSnm",
        "outputId": "dabe331e-aadc-4383-ad03-5a515939c005"
      },
      "execution_count": null,
      "outputs": [
        {
          "output_type": "stream",
          "name": "stdout",
          "text": [
            "vasanthidharmalingam\n"
          ]
        }
      ]
    },
    {
      "cell_type": "code",
      "source": [
        "tup1=(3,5)\n",
        "tup2=(4,7)\n",
        "res=tup1 + tup2\n",
        "print(res)\n",
        "print(len(res))"
      ],
      "metadata": {
        "colab": {
          "base_uri": "https://localhost:8080/"
        },
        "id": "Y7zL54urtLSj",
        "outputId": "1548dbe8-003d-45e7-da9a-fc00cbae1ba7"
      },
      "execution_count": null,
      "outputs": [
        {
          "output_type": "stream",
          "name": "stdout",
          "text": [
            "(3, 5, 4, 7)\n",
            "4\n"
          ]
        }
      ]
    },
    {
      "cell_type": "code",
      "source": [
        "tup1=(3,5),\n",
        "tup2=(4,7)\n",
        "res=tup1 + tup2\n",
        "print(res)\n",
        "print(len(res))"
      ],
      "metadata": {
        "colab": {
          "base_uri": "https://localhost:8080/"
        },
        "id": "q2zG8Y2AvLgm",
        "outputId": "8dad3b58-fbbf-4861-e18e-7b3ea3efc6e5"
      },
      "execution_count": null,
      "outputs": [
        {
          "output_type": "stream",
          "name": "stdout",
          "text": [
            "((3, 5), 4, 7)\n",
            "3\n"
          ]
        }
      ]
    },
    {
      "cell_type": "code",
      "source": [
        "tup1=(3,5)\n",
        "tup2=(4,7),\n",
        "result=tup1 + tup2\n",
        "print(result)\n",
        "print(len(result))"
      ],
      "metadata": {
        "colab": {
          "base_uri": "https://localhost:8080/"
        },
        "id": "I1G7iEfDvPZc",
        "outputId": "1d7489fc-f558-4859-c96d-e4b10e06d570"
      },
      "execution_count": null,
      "outputs": [
        {
          "output_type": "stream",
          "name": "stdout",
          "text": [
            "(3, 5, (4, 7))\n",
            "3\n"
          ]
        }
      ]
    },
    {
      "cell_type": "code",
      "source": [
        "tup1=(3,5),\n",
        "tup2=(4,7),\n",
        "print(\"first tuple is:\" + str(tup1))\n",
        "print(\"second tuple is:\" + str(tup2))\n",
        "result=tup1 + tup2\n",
        "print(result)\n",
        "print(len(result))"
      ],
      "metadata": {
        "colab": {
          "base_uri": "https://localhost:8080/"
        },
        "id": "bo8tm9DmvlBV",
        "outputId": "43718216-6074-4629-a188-80777e1a1532"
      },
      "execution_count": null,
      "outputs": [
        {
          "output_type": "stream",
          "name": "stdout",
          "text": [
            "first tuple is:((3, 5),)\n",
            "second tuple is:((4, 7),)\n",
            "((3, 5), (4, 7))\n",
            "2\n"
          ]
        }
      ]
    },
    {
      "cell_type": "code",
      "source": [
        "tup1=(3,5),\n",
        "tup2=(4,7),\n",
        "print(\"first tuple is:\" + str(tup1))\n",
        "print(\"second tuple is:\" + str(tup2))\n",
        "result=tup1 + tup2\n",
        "#print(\"after concatenation:\" + str(result))\n",
        "print(result)\n",
        "print(len(result))\n",
        "result1= result *4\n",
        "print(result1)\n",
        "print(len(result1))"
      ],
      "metadata": {
        "colab": {
          "base_uri": "https://localhost:8080/"
        },
        "id": "zI7Q-CrhwJiE",
        "outputId": "8eb0faae-fc81-4561-a45d-5aa6104bcdfe"
      },
      "execution_count": null,
      "outputs": [
        {
          "output_type": "stream",
          "name": "stdout",
          "text": [
            "first tuple is:((3, 5),)\n",
            "second tuple is:((4, 7),)\n",
            "((3, 5), (4, 7))\n",
            "2\n",
            "((3, 5), (4, 7), (3, 5), (4, 7), (3, 5), (4, 7), (3, 5), (4, 7))\n",
            "8\n"
          ]
        }
      ]
    },
    {
      "cell_type": "code",
      "source": [],
      "metadata": {
        "id": "nbjxNP8i0UL2"
      },
      "execution_count": null,
      "outputs": []
    },
    {
      "cell_type": "code",
      "source": [
        "list1=[3,5,\"vasanthi\"]\n",
        "list2=[4,7]\n",
        "print(list1)\n",
        "print(list2)"
      ],
      "metadata": {
        "colab": {
          "base_uri": "https://localhost:8080/"
        },
        "id": "3hNpGGXr0bX9",
        "outputId": "a4462638-106e-4f17-afb3-884922bcca07"
      },
      "execution_count": null,
      "outputs": [
        {
          "output_type": "stream",
          "name": "stdout",
          "text": [
            "[3, 5, 'vasanthi']\n",
            "[4, 7]\n"
          ]
        }
      ]
    },
    {
      "cell_type": "code",
      "source": [
        "list1=[3,5,\"vasanthi\"]\n",
        "list2=[4,7]\n",
        "print(list1)\n",
        "list2"
      ],
      "metadata": {
        "id": "0oGgyj0K0s6k",
        "outputId": "25c28dd3-be16-4736-d28f-cf0f37c3b84e",
        "colab": {
          "base_uri": "https://localhost:8080/"
        }
      },
      "execution_count": null,
      "outputs": [
        {
          "output_type": "stream",
          "name": "stdout",
          "text": [
            "[3, 5, 'vasanthi']\n"
          ]
        },
        {
          "output_type": "execute_result",
          "data": {
            "text/plain": [
              "[4, 7]"
            ]
          },
          "metadata": {},
          "execution_count": 43
        }
      ]
    },
    {
      "cell_type": "code",
      "source": [
        "list1=[3,5],\n",
        "list2=[4,7],\n",
        "print(\"first list is:\" + str(list1))\n",
        "print(\"second list is:\" + str(list2))\n",
        "result=list1 + list2\n",
        "print(result)\n",
        "print(len(result))"
      ],
      "metadata": {
        "id": "QlQWnosaxxgy",
        "colab": {
          "base_uri": "https://localhost:8080/"
        },
        "outputId": "d6f43f54-2cdf-48a6-ecdc-a20dd0ee9ecb"
      },
      "execution_count": null,
      "outputs": [
        {
          "output_type": "stream",
          "name": "stdout",
          "text": [
            "first list is:([3, 5],)\n",
            "second list is:([4, 7],)\n",
            "([3, 5], [4, 7])\n",
            "2\n"
          ]
        }
      ]
    },
    {
      "cell_type": "code",
      "source": [
        "list1=[100,2.34,\"vasanthi\"]\n",
        "print(list1[1:3])\n",
        "print(list1[0:1])"
      ],
      "metadata": {
        "id": "BNmi6Cn90apE",
        "colab": {
          "base_uri": "https://localhost:8080/"
        },
        "outputId": "c6ea1f65-09dc-4e9e-9046-ceb15db6d93a"
      },
      "execution_count": null,
      "outputs": [
        {
          "output_type": "stream",
          "name": "stdout",
          "text": [
            "[2.34, 'vasanthi']\n",
            "[100]\n"
          ]
        }
      ]
    },
    {
      "cell_type": "code",
      "source": [
        "list1=[100,2.34,\"vasanthi\",\"kailaash\"]\n",
        "list1[1:2]=[1311,\"dharmalingam\"]\n",
        "list1[0:3]\n",
        "list1[3]=\"bobby\"\n",
        "list1[0:4]"
      ],
      "metadata": {
        "colab": {
          "base_uri": "https://localhost:8080/"
        },
        "id": "UKgsNRRQ4qaV",
        "outputId": "e4749f8b-99c8-45a9-9488-6769970a4a07"
      },
      "execution_count": null,
      "outputs": [
        {
          "output_type": "execute_result",
          "data": {
            "text/plain": [
              "[100, 1311, 'dharmalingam', 'bobby']"
            ]
          },
          "metadata": {},
          "execution_count": 64
        }
      ]
    },
    {
      "cell_type": "code",
      "source": [
        "list1=[100,2.34]\n",
        "print(max(list1))"
      ],
      "metadata": {
        "id": "hkdty9DK6FxP",
        "colab": {
          "base_uri": "https://localhost:8080/"
        },
        "outputId": "a8f7bb28-e3ff-4117-ab29-b612cf06afda"
      },
      "execution_count": 2,
      "outputs": [
        {
          "output_type": "stream",
          "name": "stdout",
          "text": [
            "100\n"
          ]
        }
      ]
    },
    {
      "cell_type": "code",
      "source": [
        "list1=100.2865\n",
        "print(round(list1))\n",
        "print(round(list1,0))\n",
        "print(round(list1,1))\n",
        "print(round(list1,2))"
      ],
      "metadata": {
        "colab": {
          "base_uri": "https://localhost:8080/"
        },
        "id": "fm4e0YLPy0Z3",
        "outputId": "78587b32-1335-4d35-d9d3-2d97d08774ef"
      },
      "execution_count": 10,
      "outputs": [
        {
          "output_type": "stream",
          "name": "stdout",
          "text": [
            "100\n",
            "100.0\n",
            "100.3\n",
            "100.29\n"
          ]
        }
      ]
    },
    {
      "cell_type": "code",
      "source": [
        "help(print)"
      ],
      "metadata": {
        "colab": {
          "base_uri": "https://localhost:8080/"
        },
        "id": "Ycn8k0Xw0QU2",
        "outputId": "c562c848-944b-41ad-a6ad-0a9bec2854f4"
      },
      "execution_count": 13,
      "outputs": [
        {
          "output_type": "stream",
          "name": "stdout",
          "text": [
            "Help on built-in function print in module builtins:\n",
            "\n",
            "print(...)\n",
            "    print(value, ..., sep=' ', end='\\n', file=sys.stdout, flush=False)\n",
            "    \n",
            "    Prints the values to a stream, or to sys.stdout by default.\n",
            "    Optional keyword arguments:\n",
            "    file:  a file-like object (stream); defaults to the current sys.stdout.\n",
            "    sep:   string inserted between values, default a space.\n",
            "    end:   string appended after the last value, default a newline.\n",
            "    flush: whether to forcibly flush the stream.\n",
            "\n"
          ]
        }
      ]
    }
  ]
}