{
  "cells": [
    {
      "cell_type": "markdown",
      "metadata": {
        "id": "view-in-github",
        "colab_type": "text"
      },
      "source": [
        "<a href=\"https://colab.research.google.com/github/vasanthidharmalingam/python_fdp/blob/main/python_fdp_(2).ipynb\" target=\"_parent\"><img src=\"https://colab.research.google.com/assets/colab-badge.svg\" alt=\"Open In Colab\"/></a>"
      ]
    },
    {
      "cell_type": "code",
      "execution_count": null,
      "id": "7c9cee28-8404-42bf-93fc-3616e474870d",
      "metadata": {
        "id": "7c9cee28-8404-42bf-93fc-3616e474870d",
        "outputId": "311528c4-825f-4289-de56-92c5e31dee53"
      },
      "outputs": [
        {
          "name": "stdout",
          "output_type": "stream",
          "text": [
            "i\n",
            "False\n"
          ]
        }
      ],
      "source": [
        "my_str=\"vasanthi\"\n",
        "print(my_str[7])\n",
        "print(\"A\" in my_str)"
      ]
    },
    {
      "cell_type": "code",
      "execution_count": null,
      "id": "8e0f9c39-7946-4440-a472-6d53f0259fb5",
      "metadata": {
        "id": "8e0f9c39-7946-4440-a472-6d53f0259fb5",
        "outputId": "06dca56d-a38d-4c1f-d33f-c14738ee8d97"
      },
      "outputs": [
        {
          "name": "stdout",
          "output_type": "stream",
          "text": [
            "[1 2 3 4 5]\n"
          ]
        }
      ],
      "source": [
        "import numpy as np\n",
        "arr1=np.array([1,2,3,4,5])\n",
        "print(arr1)"
      ]
    },
    {
      "cell_type": "code",
      "execution_count": null,
      "id": "715032ff-ce93-4ec8-a276-c107bda46988",
      "metadata": {
        "id": "715032ff-ce93-4ec8-a276-c107bda46988",
        "outputId": "e9cf94fc-97a9-4da4-c3d4-d945645ef90a"
      },
      "outputs": [
        {
          "name": "stdout",
          "output_type": "stream",
          "text": [
            "[0]\n"
          ]
        }
      ],
      "source": [
        "arr1=np.arange(1)\n",
        "print(arr1)"
      ]
    },
    {
      "cell_type": "code",
      "execution_count": null,
      "id": "785134e7-78b3-4d0d-a997-0f3be5741c85",
      "metadata": {
        "id": "785134e7-78b3-4d0d-a997-0f3be5741c85",
        "outputId": "d7e83ee3-e5cb-457b-ac75-34466facaa79"
      },
      "outputs": [
        {
          "name": "stdout",
          "output_type": "stream",
          "text": [
            "[[0. 0. 0.]\n",
            " [0. 0. 0.]\n",
            " [0. 0. 0.]]\n",
            "[[1. 1. 1.]\n",
            " [1. 1. 1.]]\n"
          ]
        }
      ],
      "source": [
        "arr1=np.zeros((3,3))\n",
        "arr2=np.ones((2,3))\n",
        "print(arr1)\n",
        "print(arr2)"
      ]
    },
    {
      "cell_type": "code",
      "execution_count": null,
      "id": "aceaaa2b-a4bb-48d1-bdb4-c1996a3e19c6",
      "metadata": {
        "id": "aceaaa2b-a4bb-48d1-bdb4-c1996a3e19c6",
        "outputId": "6fda8c8a-e05d-411d-9ff5-d6461cacb7b1"
      },
      "outputs": [
        {
          "name": "stdout",
          "output_type": "stream",
          "text": [
            "[101 202 303 404 505]\n",
            "[ 100  400  900 1600 2500]\n",
            "(2, 2)\n",
            "5\n",
            "int32\n"
          ]
        }
      ],
      "source": [
        "import numpy as np\n",
        "arr0=np.array([[1,2],[2,3]])\n",
        "arr1=np.array([1,2,3,4,5])\n",
        "arr2=np.array([100,200,300,400,500])\n",
        "arr3=arr1+arr2\n",
        "print(arr3)\n",
        "arr4=arr1*arr2\n",
        "print(arr4)\n",
        "print(arr0.shape)\n",
        "print(arr2.size)\n",
        "print(arr3.dtype)"
      ]
    },
    {
      "cell_type": "code",
      "execution_count": null,
      "id": "f563e400-5e8d-4026-8af0-45548dbfb5fa",
      "metadata": {
        "id": "f563e400-5e8d-4026-8af0-45548dbfb5fa"
      },
      "outputs": [],
      "source": []
    }
  ],
  "metadata": {
    "kernelspec": {
      "display_name": "Python 3 (ipykernel)",
      "language": "python",
      "name": "python3"
    },
    "language_info": {
      "codemirror_mode": {
        "name": "ipython",
        "version": 3
      },
      "file_extension": ".py",
      "mimetype": "text/x-python",
      "name": "python",
      "nbconvert_exporter": "python",
      "pygments_lexer": "ipython3",
      "version": "3.11.7"
    },
    "colab": {
      "provenance": [],
      "include_colab_link": true
    }
  },
  "nbformat": 4,
  "nbformat_minor": 5
}